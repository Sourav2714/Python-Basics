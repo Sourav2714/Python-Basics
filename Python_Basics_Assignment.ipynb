{
  "nbformat": 4,
  "nbformat_minor": 0,
  "metadata": {
    "colab": {
      "provenance": []
    },
    "kernelspec": {
      "name": "python3",
      "display_name": "Python 3"
    },
    "language_info": {
      "name": "python"
    }
  },
  "cells": [
    {
      "cell_type": "markdown",
      "source": [
        "**Python Basics Questions**"
      ],
      "metadata": {
        "id": "MlOnRqrHkCB_"
      }
    },
    {
      "cell_type": "markdown",
      "source": [
        "1. What is Python, and why is it popular?\n",
        "\n",
        "Ans- Python is a high-level, interpreted programming language known for its readability, reliability, simplicity, and vast ecosystem. It is popular because it is friendly, supports multiple libraries like panda, numpy etc and is widely used in data science, web development, automation, and more."
      ],
      "metadata": {
        "id": "rG9tXCF3lh9-"
      }
    },
    {
      "cell_type": "markdown",
      "source": [
        "2. What is an interpreter in Python?\n",
        "\n",
        "Ans-    An interpreter executes Python code line by line. Python's interpreter converts high-level code into machine-level instructions during runtime, which makes debugging easier and interactive & if there is any error, it stops at that line and shows the error message."
      ],
      "metadata": {
        "id": "AQZ4RhJOmJQw"
      }
    },
    {
      "cell_type": "markdown",
      "source": [
        "3. What are pre-defined keywords in Python?\n",
        "\n",
        "Ans- Pre-defined keywords are reserved words that have special meanings in Python like if, else, elif, for, while, def, return, true, false etc. They cannot be used as variable names."
      ],
      "metadata": {
        "id": "QMuBLbblmP1v"
      }
    },
    {
      "cell_type": "markdown",
      "source": [
        "4. Can keywords be used as variable names?\n",
        "\n",
        "Ans- No, Python keywords cannot be used as variable names because they are reserved for specific syntax and language structure."
      ],
      "metadata": {
        "id": "QNjLtpcvmVAB"
      }
    },
    {
      "cell_type": "markdown",
      "source": [
        "5. What is mutability in Python?\n",
        "\n",
        "Ans- Mutability refers to whether an object’s state can be changed after it’s created. Mutable objects like lists can be changed, while immutable ones like tuples cannot be changed."
      ],
      "metadata": {
        "id": "Uu2plzRtmYMx"
      }
    },
    {
      "cell_type": "markdown",
      "source": [
        "6. Why are lists mutable, but tuples are immutable?\n",
        "\n",
        "Ans- Lists are designed to be flexible, allowing changes like add, remove, modify where as Tuples are immutable by design for performance and data safety and especially useful when the data shouldn't be changed."
      ],
      "metadata": {
        "id": "zHO4E3demcXB"
      }
    },
    {
      "cell_type": "markdown",
      "source": [
        "7. What is the difference between == and is operators in Python?\n",
        "\n",
        "Ans- [==] checks value equality like if two objects have the same value.\n",
        "\n",
        "[is] checks identity equality like if two objects reference the same memory location."
      ],
      "metadata": {
        "id": "plCxhzkxmgJF"
      }
    },
    {
      "cell_type": "markdown",
      "source": [
        "8. What are logical operators in Python?\n",
        "\n",
        "Ans- Logical operators are used to combine conditional (boolean) expressions. They return either True or False based on the logic.\n",
        "\n",
        "and: True if both operands are True\n",
        "\n",
        "or: True if at least one operand is True\n",
        "\n",
        "not: Inverts the boolean value"
      ],
      "metadata": {
        "id": "BIANxLUSmjC7"
      }
    },
    {
      "cell_type": "markdown",
      "source": [
        "9. What is type casting in Python?\n",
        "\n",
        "Ans- Type casting is converting one data type into another. Example:\n",
        "\n",
        "int(\"5\") → 5\n",
        "\n",
        "float(\"2.3\") → 2.3"
      ],
      "metadata": {
        "id": "2R68oQbxmmvC"
      }
    },
    {
      "cell_type": "code",
      "source": [
        "x = \"10\"           #String\n",
        "y = int(x)         # y becomes 10 (integer)\n",
        "print(y + 5)"
      ],
      "metadata": {
        "colab": {
          "base_uri": "https://localhost:8080/"
        },
        "id": "yooMKFTGqxlY",
        "outputId": "858776f7-7361-4fc9-86f9-d974b6db783e"
      },
      "execution_count": null,
      "outputs": [
        {
          "output_type": "stream",
          "name": "stdout",
          "text": [
            "15\n"
          ]
        }
      ]
    },
    {
      "cell_type": "markdown",
      "source": [
        "10. What is the difference between implicit and explicit type casting?\n",
        "\n",
        "Ans- Implicit: Python automatically converts the type.\n",
        "\n",
        "x = 5 + 3.0 (x becomes float)\n",
        "\n",
        "Explicit: You manually convert the type.\n",
        "\n",
        "x = int(\"10\")"
      ],
      "metadata": {
        "id": "FneV0NxnmsRu"
      }
    },
    {
      "cell_type": "markdown",
      "source": [
        "11. What is the purpose of conditional statements in Python?\n",
        "\n",
        "Ans- Conditional statements (if, elif, else) allow programs to make decisions and execute code blocks based on conditions."
      ],
      "metadata": {
        "id": "ywUM1AYhmwtN"
      }
    },
    {
      "cell_type": "markdown",
      "source": [
        "12. How does the elif statement work?\n",
        "\n",
        "Ans- elif (short for \"else if\") provides additional conditions after an if. If the if condition is False, Python checks the elif conditions in order."
      ],
      "metadata": {
        "id": "FgslHNJbm2Vu"
      }
    },
    {
      "cell_type": "markdown",
      "source": [
        "13. What is the difference between for and while loops?\n",
        "\n",
        "Ans- for loop: Used when the number of iterations is known.\n",
        "\n",
        "while loop: Used when the number of iterations is not known and depends on a condition."
      ],
      "metadata": {
        "id": "3cuIS37Mm5Ok"
      }
    },
    {
      "cell_type": "markdown",
      "source": [
        "14. Describe a scenario where a while loop is more suitable than a for loop.\n",
        "\n",
        "Ans- Example: Waiting for a user to enter a valid password.\n",
        "\n",
        "while input(\"Enter password: \") != \"secret\":\n",
        "    print(\"Try again.\")\n",
        "\n",
        "You don’t know how many attempts the user will need — perfect case for a while loop."
      ],
      "metadata": {
        "id": "wHA5PeAPm74D"
      }
    },
    {
      "cell_type": "markdown",
      "source": [
        "**Practical Questions**"
      ],
      "metadata": {
        "id": "lpyJ83Gzj2N3"
      }
    },
    {
      "cell_type": "markdown",
      "source": [
        "1. Write a Python program to print \"Hello, World!\""
      ],
      "metadata": {
        "id": "5xRmzG_akLF-"
      }
    },
    {
      "cell_type": "code",
      "source": [
        "print(\"Hello World!\")"
      ],
      "metadata": {
        "colab": {
          "base_uri": "https://localhost:8080/"
        },
        "id": "bzx1EFYUkV3O",
        "outputId": "71056c65-2fb9-42fb-8612-81eb41b89e29"
      },
      "execution_count": null,
      "outputs": [
        {
          "output_type": "stream",
          "name": "stdout",
          "text": [
            "Hello World!\n"
          ]
        }
      ]
    },
    {
      "cell_type": "markdown",
      "source": [
        "2. Write a Python program that displays your name and age"
      ],
      "metadata": {
        "id": "2pcuPIJzknjN"
      }
    },
    {
      "cell_type": "code",
      "source": [
        "name = \"Sourav\"\n",
        "age = 31\n",
        "\n",
        "print(\"My name is:\",name, \"and my age is:\", age)"
      ],
      "metadata": {
        "colab": {
          "base_uri": "https://localhost:8080/"
        },
        "id": "08ISzsg6lRJr",
        "outputId": "eb5a73c9-e129-46c2-ec79-35aa762ce6c3"
      },
      "execution_count": null,
      "outputs": [
        {
          "output_type": "stream",
          "name": "stdout",
          "text": [
            "My name is: Sourav and my age is: 31\n"
          ]
        }
      ]
    },
    {
      "cell_type": "markdown",
      "source": [
        "3. Write code to print all the pre-defined keywords in Python using the keyword library"
      ],
      "metadata": {
        "id": "q9hYqvu4nhR5"
      }
    },
    {
      "cell_type": "code",
      "source": [
        "import keyword\n",
        "print(keyword.kwlist)"
      ],
      "metadata": {
        "colab": {
          "base_uri": "https://localhost:8080/"
        },
        "id": "6ssdofWlnl-p",
        "outputId": "82dd8270-e400-4ec5-bd88-ac807aef98ab"
      },
      "execution_count": null,
      "outputs": [
        {
          "output_type": "stream",
          "name": "stdout",
          "text": [
            "['False', 'None', 'True', 'and', 'as', 'assert', 'async', 'await', 'break', 'class', 'continue', 'def', 'del', 'elif', 'else', 'except', 'finally', 'for', 'from', 'global', 'if', 'import', 'in', 'is', 'lambda', 'nonlocal', 'not', 'or', 'pass', 'raise', 'return', 'try', 'while', 'with', 'yield']\n"
          ]
        }
      ]
    },
    {
      "cell_type": "markdown",
      "source": [
        "4. Write a program that checks if a given word is a Python keyword."
      ],
      "metadata": {
        "id": "MndOPxSnn2N4"
      }
    },
    {
      "cell_type": "code",
      "source": [
        "import keyword\n",
        "\n",
        "word = input(\"enter a word: \")\n",
        "\n",
        "if word in keyword.kwlist:\n",
        "    print(\"It is a python keyword\")\n",
        "else:\n",
        "    print(\"It is not a python keyword\")"
      ],
      "metadata": {
        "colab": {
          "base_uri": "https://localhost:8080/"
        },
        "id": "qOiT3Uy_oMLN",
        "outputId": "48782c4c-2100-4bde-dded-2cb8cbdf971d"
      },
      "execution_count": null,
      "outputs": [
        {
          "output_type": "stream",
          "name": "stdout",
          "text": [
            "enter a word: True\n",
            "It is a python keyword\n"
          ]
        }
      ]
    },
    {
      "cell_type": "code",
      "source": [
        "import keyword\n",
        "\n",
        "word = input(\"enter a word: \")\n",
        "\n",
        "if word in keyword.kwlist:\n",
        "    print(\"It is a python keyword\")\n",
        "else:\n",
        "    print(\"It is not a python keyword\")"
      ],
      "metadata": {
        "colab": {
          "base_uri": "https://localhost:8080/"
        },
        "id": "ITQv0OKUqAJC",
        "outputId": "cd648c8d-78f8-44dd-f032-31f720e4ecbb"
      },
      "execution_count": null,
      "outputs": [
        {
          "output_type": "stream",
          "name": "stdout",
          "text": [
            "enter a word: Sourav\n",
            "It is not a python keyword\n"
          ]
        }
      ]
    },
    {
      "cell_type": "markdown",
      "source": [
        "5. Create a list and tuple in Python, and demonstrate how attempting to change an element works differently\n",
        "for each."
      ],
      "metadata": {
        "id": "8mROuSEoqYVM"
      }
    },
    {
      "cell_type": "code",
      "source": [
        "my_list = [1, 2, 3]\n",
        "my_tuple = (1, 2, 3)\n",
        "\n",
        "my_list[1] = 10\n",
        "print(\"modified list:\", my_list)\n",
        "\n",
        "try:\n",
        "    my_tuple[1] = 10\n",
        "    print(\"modified tuple:\", my_tuple)\n",
        "except TypeError:\n",
        "    print(\"Tuples are immutable and cannot be modified\")"
      ],
      "metadata": {
        "colab": {
          "base_uri": "https://localhost:8080/"
        },
        "id": "rwXWPNjyqVQA",
        "outputId": "3610343f-e20f-441b-f664-d8543c0931c6"
      },
      "execution_count": null,
      "outputs": [
        {
          "output_type": "stream",
          "name": "stdout",
          "text": [
            "modified list: [1, 10, 3]\n",
            "Tuples are immutable and cannot be modified\n"
          ]
        }
      ]
    },
    {
      "cell_type": "markdown",
      "source": [
        "6. Write a function to demonstrate the behavior of mutable and immutable arguments."
      ],
      "metadata": {
        "id": "IsL4Opr5ro9L"
      }
    },
    {
      "cell_type": "code",
      "source": [
        "def modify_list(lst):\n",
        "    lst.append(10)\n",
        "\n",
        "def modify_int(a):\n",
        "    a += 10\n",
        "    return a\n",
        "\n",
        "\n",
        "my_list = [1, 2, 3]\n",
        "my_int = 20\n",
        "\n",
        "modify_list(my_list)\n",
        "my_int = modify_int(my_int)\n",
        "\n",
        "print(\"list after function:\", my_list)\n",
        "print(\"integer after function:\", my_int)\n"
      ],
      "metadata": {
        "colab": {
          "base_uri": "https://localhost:8080/"
        },
        "id": "DKPpC41RruID",
        "outputId": "b2236519-9791-4049-989a-38acac1a9522"
      },
      "execution_count": null,
      "outputs": [
        {
          "output_type": "stream",
          "name": "stdout",
          "text": [
            "list after function: [1, 2, 3, 10]\n",
            "integer after function: 30\n"
          ]
        }
      ]
    },
    {
      "cell_type": "markdown",
      "source": [
        "7. Write a program that performs basic arithmetic operations on two user-input numbers."
      ],
      "metadata": {
        "id": "4C9InBZizv-v"
      }
    },
    {
      "cell_type": "code",
      "source": [
        "#Example 1\n",
        "a = int(input(\"enter your first number: \"))\n",
        "b = int(input(\"enter your second number: \"))\n",
        "\n",
        "print(\"sum:\", a + b)\n",
        "print(\"difference:\", a - b)\n",
        "print(\"multiplication:\", a * b)\n",
        "print(\"quotient:\", a / b)"
      ],
      "metadata": {
        "colab": {
          "base_uri": "https://localhost:8080/"
        },
        "id": "yiAjErHeracz",
        "outputId": "38051aa2-c0d2-4681-deb7-db08ee33fcef"
      },
      "execution_count": null,
      "outputs": [
        {
          "output_type": "stream",
          "name": "stdout",
          "text": [
            "enter your first number: 42\n",
            "enter your second number: 6\n",
            "sum: 48\n",
            "difference: 36\n",
            "multiplication: 252\n",
            "quotient: 7.0\n"
          ]
        }
      ]
    },
    {
      "cell_type": "code",
      "source": [
        "#Example 2\n",
        "a = float(input(\"enter your first number: \"))\n",
        "b = float(input(\"enter your second number: \"))\n",
        "\n",
        "print(\"sum:\", a + b)\n",
        "print(\"difference:\", a - b)\n",
        "print(\"multiplication:\", a * b)\n",
        "print(\"quotient:\", a / b)"
      ],
      "metadata": {
        "colab": {
          "base_uri": "https://localhost:8080/"
        },
        "id": "Trz8l2UX0j-D",
        "outputId": "6fd53831-c81e-44e9-b77f-996d60f8baf2"
      },
      "execution_count": null,
      "outputs": [
        {
          "output_type": "stream",
          "name": "stdout",
          "text": [
            "enter your first number: 3.45\n",
            "enter your second number: 5.78\n",
            "sum: 9.23\n",
            "difference: -2.33\n",
            "multiplication: 19.941000000000003\n",
            "quotient: 0.596885813148789\n"
          ]
        }
      ]
    },
    {
      "cell_type": "markdown",
      "source": [
        "8.  Write a program to demonstrate the use of logical operators."
      ],
      "metadata": {
        "id": "8wLpNn770_yC"
      }
    },
    {
      "cell_type": "code",
      "source": [
        "x = True\n",
        "y = False\n",
        "\n",
        "print(\"x and y:\", x and y)\n",
        "print(\"x or y:\", x or y)\n",
        "print(\"not x:\", not x)"
      ],
      "metadata": {
        "colab": {
          "base_uri": "https://localhost:8080/"
        },
        "id": "XCa7V01M06Wh",
        "outputId": "1e898e2f-f53a-43b0-983e-0705230f203d"
      },
      "execution_count": null,
      "outputs": [
        {
          "output_type": "stream",
          "name": "stdout",
          "text": [
            "x and y: False\n",
            "x or y: True\n",
            "not x: False\n"
          ]
        }
      ]
    },
    {
      "cell_type": "markdown",
      "source": [
        "9. Write a Python program to convert user input from string to integer, float, and boolean types.\n",
        "\n"
      ],
      "metadata": {
        "id": "_p90y6Qf260h"
      }
    },
    {
      "cell_type": "code",
      "source": [
        "a = input(\"enter a number: \")\n",
        "\n",
        "print(\"as int:\", int(a))\n",
        "print(\"as float:\", float(a))\n",
        "print(\"as bool:\", bool(a))"
      ],
      "metadata": {
        "colab": {
          "base_uri": "https://localhost:8080/"
        },
        "id": "h_vM1AOq2rYt",
        "outputId": "a0b1c6cf-d9b2-4ee3-97d5-05c121c13670"
      },
      "execution_count": null,
      "outputs": [
        {
          "output_type": "stream",
          "name": "stdout",
          "text": [
            "enter a number: 23\n",
            "as int: 23\n",
            "as float: 23.0\n",
            "as bool: True\n"
          ]
        }
      ]
    },
    {
      "cell_type": "markdown",
      "source": [
        "10. Write code to demonstrate type casting with list elements."
      ],
      "metadata": {
        "id": "8_s86r4o3rhT"
      }
    },
    {
      "cell_type": "code",
      "source": [
        "lst = ['1', '2', '3']\n",
        "int_lst = [int(i) for i in lst]\n",
        "print(int_lst)"
      ],
      "metadata": {
        "colab": {
          "base_uri": "https://localhost:8080/"
        },
        "id": "vpj6sSQS3m3l",
        "outputId": "d03a3abd-34bf-4faf-fbe5-1bf0f02f15c9"
      },
      "execution_count": null,
      "outputs": [
        {
          "output_type": "stream",
          "name": "stdout",
          "text": [
            "[1, 2, 3]\n"
          ]
        }
      ]
    },
    {
      "cell_type": "markdown",
      "source": [
        "11. Write a program that checks if a number is positive, negative, or zero.\n",
        "\n"
      ],
      "metadata": {
        "id": "FE_3ZooQ4sBM"
      }
    },
    {
      "cell_type": "code",
      "source": [
        "num = int(input(\"enter a number: \"))\n",
        "\n",
        "if num > 0:\n",
        "    print(\"number is positive\")\n",
        "elif num < 0:\n",
        "    print(\"number is negative\")\n",
        "else:\n",
        "    print(\"Zero\")"
      ],
      "metadata": {
        "colab": {
          "base_uri": "https://localhost:8080/"
        },
        "id": "Ozn-xJRG4g8C",
        "outputId": "062d40c9-3aae-4422-8445-14ef42f78df0"
      },
      "execution_count": null,
      "outputs": [
        {
          "output_type": "stream",
          "name": "stdout",
          "text": [
            "enter a number: -4\n",
            "number is negative\n"
          ]
        }
      ]
    },
    {
      "cell_type": "markdown",
      "source": [
        "12. Write a for loop to print numbers from 1 to 10."
      ],
      "metadata": {
        "id": "8Mu06kRu5fRR"
      }
    },
    {
      "cell_type": "code",
      "source": [
        "for i in range(1, 11):\n",
        "    print(i)\n"
      ],
      "metadata": {
        "colab": {
          "base_uri": "https://localhost:8080/"
        },
        "id": "JcyJzwEu5Zm4",
        "outputId": "2704ace0-8aaf-4f8e-cea9-985818e3035b"
      },
      "execution_count": null,
      "outputs": [
        {
          "output_type": "stream",
          "name": "stdout",
          "text": [
            "1\n",
            "2\n",
            "3\n",
            "4\n",
            "5\n",
            "6\n",
            "7\n",
            "8\n",
            "9\n",
            "10\n"
          ]
        }
      ]
    },
    {
      "cell_type": "markdown",
      "source": [
        "13. Write a Python program to find the sum of all even numbers between 1 and 50."
      ],
      "metadata": {
        "id": "T3xAbBwK5zn_"
      }
    },
    {
      "cell_type": "code",
      "source": [
        "sum_even = sum(i for i in range(1, 51) if i % 2 == 0)\n",
        "print(\"sum of even numbers:\", sum_even)"
      ],
      "metadata": {
        "colab": {
          "base_uri": "https://localhost:8080/"
        },
        "id": "mbckB7Fw5yEx",
        "outputId": "33c045ad-46e2-441e-dc77-ed32db7d7561"
      },
      "execution_count": null,
      "outputs": [
        {
          "output_type": "stream",
          "name": "stdout",
          "text": [
            "sum of even numbers: 650\n"
          ]
        }
      ]
    },
    {
      "cell_type": "markdown",
      "source": [
        "14. Write a program to reverse a string using a while loop."
      ],
      "metadata": {
        "id": "KRbzlosL6y-C"
      }
    },
    {
      "cell_type": "code",
      "source": [
        "a = input(\"enter a string: \")\n",
        "reversed_str = ''\n",
        "i = len(a) - 1\n",
        "while i >= 0:\n",
        "    reversed_str += a[i]\n",
        "    i -= 1\n",
        "print(\"reversed string:\", reversed_str)"
      ],
      "metadata": {
        "colab": {
          "base_uri": "https://localhost:8080/"
        },
        "id": "tkMtDBXa6pUm",
        "outputId": "d5f54621-791f-4750-92f6-cbce29c1aa04"
      },
      "execution_count": null,
      "outputs": [
        {
          "output_type": "stream",
          "name": "stdout",
          "text": [
            "enter a string: sourav\n",
            "reversed string: varuos\n"
          ]
        }
      ]
    },
    {
      "cell_type": "markdown",
      "source": [
        "15. Write a Python program to calculate the factorial of a number provided by the user using a while loop."
      ],
      "metadata": {
        "id": "shs2zPop8ZA0"
      }
    },
    {
      "cell_type": "code",
      "source": [
        "num = int(input(\"enter a number: \"))\n",
        "\n",
        "fact = 1\n",
        "while num > 1:\n",
        "    fact *= num\n",
        "    num -= 1\n",
        "print(\"factorial:\", fact)"
      ],
      "metadata": {
        "colab": {
          "base_uri": "https://localhost:8080/"
        },
        "id": "E1hbC6D47yFN",
        "outputId": "ef61bd5c-e3da-4aad-f78f-4996338347b2"
      },
      "execution_count": null,
      "outputs": [
        {
          "output_type": "stream",
          "name": "stdout",
          "text": [
            "enter a number: 7\n",
            "factorial: 5040\n"
          ]
        }
      ]
    },
    {
      "cell_type": "code",
      "source": [],
      "metadata": {
        "id": "v6clGaR49PcQ"
      },
      "execution_count": null,
      "outputs": []
    }
  ]
}